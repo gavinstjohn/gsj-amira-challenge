{
 "cells": [
  {
   "cell_type": "code",
   "execution_count": 96,
   "metadata": {},
   "outputs": [],
   "source": [
    "import pandas as pd\n",
    "pd.set_option('display.width', 150)\n",
    "\n",
    "\n",
    "asr_path = \"./data/asr_data.csv\"\n",
    "\n",
    "asr_frame = pd.read_csv(asr_path)\n",
    "\n",
    "target_row = 6\n",
    "target_row_frame = pd.DataFrame(asr_frame.iloc[target_row:target_row+1])"
   ]
  },
  {
   "cell_type": "code",
   "execution_count": 97,
   "metadata": {},
   "outputs": [
    {
     "name": "stdout",
     "output_type": "stream",
     "text": [
      "(('once', 'there', 'were', 'walking', 'with', 'very', 'heavy', 'sag', 'and', 'the', 'shag', 'fills', 'with', 'hat'), (0.8136, 0.8339, 0.2545, 1, 0.9043, 1, 1, 0.9576, 0.9951, 0.2565, 0.8706, 0.9593, 0.999, 0.7285))\n"
     ]
    }
   ],
   "source": [
    "import json\n",
    "\n",
    "\n",
    "# for one id value in dataset: \n",
    "{0: {\n",
    "    \"target\": {\n",
    "        \"word\": \"word\", # from labels.csv\n",
    "        \"phoneme\": \"phonemes\",\n",
    "    },\n",
    "    \"label\": bool,\n",
    "    \"phrase\": {\n",
    "        \"word\": [\"list\", \"of\", \"words\"],\n",
    "        \"phoneme\": [\"list\", \"of\", \"phonemes\", \"translated\", \"from\", \"words\"],\n",
    "    },\n",
    "    \"metadata\": {\n",
    "        \"activityId\": \"activity_id_number\",\n",
    "        \"storyId\": \"story_id_number\",\n",
    "        \"phraseIndex\": \"phrase_index_number\",\n",
    "        \"wordIndex\": \"word_index_number\",\n",
    "    }\n",
    "    \"ASR\": {\n",
    "        \"amazon_data\": {\n",
    "            \"word\": [\"list\", \"of\", \"translated\", \"words\"]\n",
    "        }\n",
    "    }\n",
    "}}\n",
    "\n",
    "def get_list_of_words(target_row_frame, target_row):\n",
    "    # amazon parsing\n",
    "    amazon_dict = dict(target_row_frame['amazon_data'])\n",
    "    amazon_json = json.loads(amazon_dict[target_row])\n",
    "    amazon_word_list, amazon_confidence_list = zip(*amazon_json['confidence'])\n",
    "\n",
    "    amazon_word_list, amazon_confidence_list\n",
    "\n",
    "\n",
    "    "
   ]
  },
  {
   "cell_type": "code",
   "execution_count": 85,
   "metadata": {},
   "outputs": [
    {
     "name": "stdout",
     "output_type": "stream",
     "text": [
      "target_text: \n",
      "6    Once there was a man walking with a very heavy...\n",
      "Name: story_text, dtype: object\n",
      "---------------------------\n",
      "\n",
      "amazon: \n",
      "6    {\"text\": \"once there were walking with very he...\n",
      "Name: amazon_data, dtype: object\n",
      "\n",
      "kaldi: \n",
      "6    {\"text\": \"one there and warming with a very he...\n",
      "Name: kaldi_data, dtype: object\n",
      "\n",
      "kaldina: \n",
      "6    {\"text\": \"once there <UNK> <UNK> a very heavy ...\n",
      "Name: kaldiNa_data, dtype: object\n",
      "\n",
      "wav2vec words: \n",
      "6    more their lives animal walking with very heav...\n",
      "Name: wav2vec_transcript_words, dtype: object\n",
      "\n",
      "wav2vec phonemes: \n",
      "6    mwɔɹ ðɛɹ laz ænd wɔlwɔkɪŋ wɪθ ʌ vɛɹi hɛvi sæk ...\n",
      "Name: wav2vec_transcript_phonemes, dtype: object\n"
     ]
    }
   ],
   "source": [
    "target_row_frame.keys()\n",
    "print('target_text: ')\n",
    "print(target_row_frame['story_text'])\n",
    "print('---------------------------')\n",
    "print()\n",
    "print('amazon: ')\n",
    "print(target_row_frame['amazon_data'])\n",
    "print()\n",
    "print('kaldi: ')\n",
    "print(target_row_frame['kaldi_data'])\n",
    "print()\n",
    "print('kaldina: ')\n",
    "print(target_row_frame['kaldiNa_data'])\n",
    "print()\n",
    "print('wav2vec words: ')\n",
    "print(target_row_frame['wav2vec_transcript_words'])\n",
    "print()\n",
    "print('wav2vec phonemes: ')\n",
    "print(target_row_frame['wav2vec_transcript_phonemes'])\n"
   ]
  },
  {
   "cell_type": "code",
   "execution_count": 86,
   "metadata": {},
   "outputs": [
    {
     "name": "stdout",
     "output_type": "stream",
     "text": [
      "dict_keys(['text', 'confidence', 'interval', 'lapse'])\n",
      "once there were walking with very heavy sag and the shag fills with hat\n",
      "[['once', 0.8136], ['there', 0.8339], ['were', 0.2545], ['walking', 1], ['with', 0.9043], ['very', 1], ['heavy', 1], ['sag', 0.9576], ['and', 0.9951], ['the', 0.2565], ['shag', 0.8706], ['fills', 0.9593], ['with', 0.999], ['hat', 0.7285]]\n"
     ]
    }
   ],
   "source": [
    "import json\n",
    "\n",
    "dict(target_row_frame['amazon_data']).keys()\n",
    "amazon_dict = dict(target_row_frame['amazon_data'])\n",
    "amazon_dict = amazon_dict[target_row]\n",
    "amazon_dict = json.loads(amazon_dict)\n",
    "print(amazon_dict.keys())\n",
    "print(amazon_dict['text'])\n",
    "print(amazon_dict['confidence'])"
   ]
  },
  {
   "cell_type": "code",
   "execution_count": 87,
   "metadata": {},
   "outputs": [
    {
     "name": "stdout",
     "output_type": "stream",
     "text": [
      "dict_keys(['text', 'transcription', 'raw'])\n",
      "one there and warming with a very heavy sack and the sack filled with\n"
     ]
    },
    {
     "data": {
      "text/plain": [
       "[{'word': 'one',\n",
       "  'confidence': 0.5464390516281128,\n",
       "  'start_time': 1.350000023841858,\n",
       "  'end_time': 1.7400000095367432},\n",
       " {'word': 'there',\n",
       "  'confidence': 1.0,\n",
       "  'start_time': 1.784445881843567,\n",
       "  'end_time': 2.1493966579437256},\n",
       " {'word': 'and',\n",
       "  'confidence': 0.7804651260375977,\n",
       "  'start_time': 2.8763723373413086,\n",
       "  'end_time': 3.139901876449585},\n",
       " {'word': 'warming',\n",
       "  'confidence': 0.5981335639953613,\n",
       "  'start_time': 3.3899998664855957,\n",
       "  'end_time': 4.139966011047363},\n",
       " {'word': 'with',\n",
       "  'confidence': 0.9102603793144226,\n",
       "  'start_time': 4.139966011047363,\n",
       "  'end_time': 4.499118804931641},\n",
       " {'word': 'a',\n",
       "  'confidence': 0.9616492986679077,\n",
       "  'start_time': 4.500713348388672,\n",
       "  'end_time': 4.647410869598389},\n",
       " {'word': 'very',\n",
       "  'confidence': 1.0,\n",
       "  'start_time': 4.710000038146973,\n",
       "  'end_time': 5.460000038146973},\n",
       " {'word': 'heavy',\n",
       "  'confidence': 0.9945147037506104,\n",
       "  'start_time': 5.96999979019165,\n",
       "  'end_time': 6.62999963760376},\n",
       " {'word': 'sack',\n",
       "  'confidence': 0.9916599988937378,\n",
       "  'start_time': 7.230000019073486,\n",
       "  'end_time': 7.829999923706055},\n",
       " {'word': 'and',\n",
       "  'confidence': 1.0,\n",
       "  'start_time': 7.829999923706055,\n",
       "  'end_time': 8.399999618530273},\n",
       " {'word': 'the',\n",
       "  'confidence': 1.0,\n",
       "  'start_time': 9.239999771118164,\n",
       "  'end_time': 9.449999809265137},\n",
       " {'word': 'sack',\n",
       "  'confidence': 0.9916600584983826,\n",
       "  'start_time': 9.449999809265137,\n",
       "  'end_time': 10.019999504089355},\n",
       " {'word': 'filled',\n",
       "  'confidence': 0.546598494052887,\n",
       "  'start_time': 10.05000114440918,\n",
       "  'end_time': 10.559873580932617},\n",
       " {'word': 'with',\n",
       "  'confidence': 0.9642350673675537,\n",
       "  'start_time': 10.559873580932617,\n",
       "  'end_time': 10.859999656677246}]"
      ]
     },
     "execution_count": 87,
     "metadata": {},
     "output_type": "execute_result"
    }
   ],
   "source": [
    "dict(target_row_frame['kaldi_data']).keys()\n",
    "kaldi_dict = dict(target_row_frame['kaldi_data'])\n",
    "kaldi_dict = kaldi_dict[target_row]\n",
    "kaldi_dict = json.loads(kaldi_dict)\n",
    "print(kaldi_dict.keys())\n",
    "print(kaldi_dict['text'])\n",
    "kaldi_dict['transcription']"
   ]
  },
  {
   "cell_type": "code",
   "execution_count": 88,
   "metadata": {},
   "outputs": [
    {
     "name": "stdout",
     "output_type": "stream",
     "text": [
      "dict_keys(['text', 'transcription', 'raw'])\n",
      "once there <UNK> <UNK> a very heavy sack and the sack filled with\n"
     ]
    },
    {
     "data": {
      "text/plain": [
       "[{'word': 'once',\n",
       "  'confidence': 0.9853441715240479,\n",
       "  'start_time': 1.350000023841858,\n",
       "  'end_time': 1.7699999809265137},\n",
       " {'word': 'there',\n",
       "  'confidence': 1.0,\n",
       "  'start_time': 1.799560308456421,\n",
       "  'end_time': 2.147627592086792},\n",
       " {'word': '<UNK>',\n",
       "  'confidence': 0.9118882417678833,\n",
       "  'start_time': 2.2615160942077637,\n",
       "  'end_time': 2.8343307971954346},\n",
       " {'word': '<UNK>',\n",
       "  'confidence': 0.8991074562072754,\n",
       "  'start_time': 2.952380418777466,\n",
       "  'end_time': 3.651296854019165},\n",
       " {'word': 'a',\n",
       "  'confidence': 0.8903086185455322,\n",
       "  'start_time': 3.6936938762664795,\n",
       "  'end_time': 4.620427131652832},\n",
       " {'word': 'very',\n",
       "  'confidence': 1.0,\n",
       "  'start_time': 4.710000038146973,\n",
       "  'end_time': 5.460000038146973},\n",
       " {'word': 'heavy',\n",
       "  'confidence': 1.0,\n",
       "  'start_time': 5.96999979019165,\n",
       "  'end_time': 6.62999963760376},\n",
       " {'word': 'sack',\n",
       "  'confidence': 1.0,\n",
       "  'start_time': 7.230000019073486,\n",
       "  'end_time': 7.8297295570373535},\n",
       " {'word': 'and',\n",
       "  'confidence': 0.9114004373550415,\n",
       "  'start_time': 7.837950229644775,\n",
       "  'end_time': 8.389354705810547},\n",
       " {'word': 'the',\n",
       "  'confidence': 0.7387829422950745,\n",
       "  'start_time': 9.246123313903809,\n",
       "  'end_time': 9.449999809265137},\n",
       " {'word': 'sack',\n",
       "  'confidence': 1.0,\n",
       "  'start_time': 9.449999809265137,\n",
       "  'end_time': 10.019423484802246},\n",
       " {'word': 'filled',\n",
       "  'confidence': 1.0,\n",
       "  'start_time': 10.050000190734863,\n",
       "  'end_time': 10.559319496154785},\n",
       " {'word': 'with',\n",
       "  'confidence': 0.9554101824760437,\n",
       "  'start_time': 10.559999465942383,\n",
       "  'end_time': 10.85836410522461}]"
      ]
     },
     "execution_count": 88,
     "metadata": {},
     "output_type": "execute_result"
    }
   ],
   "source": [
    "dict(target_row_frame['kaldiNa_data']).keys()\n",
    "kaldina_dict = dict(target_row_frame['kaldiNa_data'])\n",
    "kaldina_dict = kaldina_dict[target_row]\n",
    "kaldina_dict = json.loads(kaldina_dict)\n",
    "print(kaldina_dict.keys())\n",
    "print(kaldina_dict['text'])\n",
    "kaldina_dict['transcription']"
   ]
  },
  {
   "cell_type": "code",
   "execution_count": 89,
   "metadata": {},
   "outputs": [
    {
     "name": "stdout",
     "output_type": "stream",
     "text": [
      "more their lives animal walking with very heavy sack and they sack fills with hat\n"
     ]
    }
   ],
   "source": [
    "dict(target_row_frame['wav2vec_transcript_words']).keys()\n",
    "w2v_dict = dict(target_row_frame['wav2vec_transcript_words'])\n",
    "w2v_dict = w2v_dict[target_row]\n",
    "print(w2v_dict)"
   ]
  },
  {
   "cell_type": "code",
   "execution_count": 90,
   "metadata": {},
   "outputs": [
    {
     "name": "stdout",
     "output_type": "stream",
     "text": [
      "mwɔɹ ðɛɹ laz ænd wɔlwɔkɪŋ wɪθ ʌ vɛɹi hɛvi sæk ænd θʌ sæg fɪld wɪθ\n"
     ]
    }
   ],
   "source": [
    "dict(target_row_frame['wav2vec_transcript_phonemes']).keys()\n",
    "w2v_dict = dict(target_row_frame['wav2vec_transcript_phonemes'])\n",
    "w2v_dict = w2v_dict[target_row]\n",
    "print(w2v_dict)"
   ]
  }
 ],
 "metadata": {
  "kernelspec": {
   "display_name": "gsj-ac",
   "language": "python",
   "name": "python3"
  },
  "language_info": {
   "codemirror_mode": {
    "name": "ipython",
    "version": 3
   },
   "file_extension": ".py",
   "mimetype": "text/x-python",
   "name": "python",
   "nbconvert_exporter": "python",
   "pygments_lexer": "ipython3",
   "version": "3.11.8"
  }
 },
 "nbformat": 4,
 "nbformat_minor": 2
}
